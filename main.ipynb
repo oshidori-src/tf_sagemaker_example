{
 "cells": [
  {
   "cell_type": "code",
   "execution_count": null,
   "metadata": {},
   "outputs": [],
   "source": [
    "#\n",
    "# Copyright 2020 Oshidori LLC. All Rights Reserved.\n",
    "#\n",
    "# Licensed under the Apache License, Version 2.0 (the \"License\");\n",
    "# you may not use this file except in compliance with the License.\n",
    "# You may obtain a copy of the License at\n",
    "#\n",
    "#     http://www.apache.org/licenses/LICENSE-2.0\n",
    "#\n",
    "# Unless required by applicable law or agreed to in writing, software\n",
    "# distributed under the License is distributed on an \"AS IS\" BASIS,\n",
    "# WITHOUT WARRANTIES OR CONDITIONS OF ANY KIND, either express or implied.\n",
    "# See the License for the specific language governing permissions and\n",
    "# limitations under the License."
   ]
  },
  {
   "cell_type": "code",
   "execution_count": null,
   "metadata": {},
   "outputs": [],
   "source": [
    "cd /home/ec2-user/SageMaker"
   ]
  },
  {
   "cell_type": "code",
   "execution_count": null,
   "metadata": {},
   "outputs": [],
   "source": [
    "!conda install tensorflow-gpu -y && conda install tensorflow-hub -y && conda install matplotlib -y"
   ]
  },
  {
   "cell_type": "code",
   "execution_count": null,
   "metadata": {},
   "outputs": [],
   "source": [
    "# Import frameworks for ML calculation\n",
    "import tensorflow as tf\n",
    "import tensorflow_hub as hub\n",
    "\n",
    "\n",
    "# Print information about TensorFlow\n",
    "print('TensorFlow version: {version}'.format(version=tf.__version__))\n",
    "print('TensorFlow Hub version: {version}'.format(version=hub.__version__))\n",
    "print('Eager mode enabled: {mode}'.format(mode=tf.executing_eagerly()))\n",
    "print('GPU available: {gpu_available}'.format(gpu_available=tf.test.is_gpu_available()))"
   ]
  },
  {
   "cell_type": "code",
   "execution_count": null,
   "metadata": {},
   "outputs": [],
   "source": [
    "!nvidia-smi --query-gpu=name,temperature.gpu,utilization.gpu,utilization.memory,memory.total --format=csv"
   ]
  },
  {
   "cell_type": "code",
   "execution_count": null,
   "metadata": {},
   "outputs": [],
   "source": [
    "# Import system library\n",
    "import os\n",
    "\n",
    "# Import libraries for ML calculation\n",
    "import matplotlib as mpl\n",
    "import matplotlib.pylab as plt\n",
    "import numpy as np\n",
    "\n",
    "# Log level 2 - means that only error messages will be printed\n",
    "os.environ['TF_CPP_MIN_LOG_LEVEL'] = '2'\n",
    "\n",
    "# Import frameworks for ML calculation\n",
    "import tensorflow as tf\n",
    "import tensorflow_hub as hub\n",
    "\n",
    "# Load arbitrary image stylization module from TFHub\n",
    "hub_module = hub.load('https://tfhub.dev/google/magenta/arbitrary-image-stylization-v1-256/2')\n",
    "\n",
    "# Load image files and convert to float32 numpy array and add batch dimension\n",
    "# The input and output values of the image should be in the range range between 0 and 1,\n",
    "# so we need to normalize tensors values as well\n",
    "content_image = plt.imread('src/input.jpg').astype(np.float32)[np.newaxis, ...] / 255.0\n",
    "style_image = plt.imread('src/style.jpg').astype(np.float32)[np.newaxis, ...] / 255.0\n",
    "\n",
    "# Apply arbitrary image stylization\n",
    "outputs = hub_module(tf.constant(content_image), tf.constant(style_image))\n",
    "stylized_image = outputs[0]\n",
    "\n",
    "# Save the results\n",
    "os.mkdir('output/')\n",
    "mpl.image.imsave('output/astnn_output.jpg', np.array(stylized_image[0]))\n",
    "mpl.image.imsave('output/astnn_content.jpg', np.array(content_image[0]))\n",
    "mpl.image.imsave('output/astnn_style.jpg', np.array(style_image[0]))\n",
    "\n",
    "if os.path.isfile('output/astnn_output.jpg'):\n",
    "    print('Style transfer was successfully done')"
   ]
  }
 ],
 "metadata": {
  "kernelspec": {
   "display_name": "conda_python3",
   "language": "python",
   "name": "conda_python3"
  },
  "language_info": {
   "codemirror_mode": {
    "name": "ipython",
    "version": 3
   },
   "file_extension": ".py",
   "mimetype": "text/x-python",
   "name": "python",
   "nbconvert_exporter": "python",
   "pygments_lexer": "ipython3",
   "version": "3.6.5"
  }
 },
 "nbformat": 4,
 "nbformat_minor": 4
}
